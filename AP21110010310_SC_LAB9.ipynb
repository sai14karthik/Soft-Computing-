{
  "nbformat": 4,
  "nbformat_minor": 0,
  "metadata": {
    "colab": {
      "provenance": [],
      "authorship_tag": "ABX9TyMVcqlOjO4wW3m9Y5HDIl9R",
      "include_colab_link": true
    },
    "kernelspec": {
      "name": "python3",
      "display_name": "Python 3"
    },
    "language_info": {
      "name": "python"
    }
  },
  "cells": [
    {
      "cell_type": "markdown",
      "metadata": {
        "id": "view-in-github",
        "colab_type": "text"
      },
      "source": [
        "<a href=\"https://colab.research.google.com/github/sai14karthik/Soft-Computing-/blob/main/AP21110010310_SC_LAB9.ipynb\" target=\"_parent\"><img src=\"https://colab.research.google.com/assets/colab-badge.svg\" alt=\"Open In Colab\"/></a>"
      ]
    },
    {
      "cell_type": "markdown",
      "source": [
        "# N. Sai Karthik AP21110010310 CSE-E\n",
        "\n",
        "\n"
      ],
      "metadata": {
        "id": "Uny-OnLTpi_y"
      }
    },
    {
      "cell_type": "markdown",
      "source": [
        "Write python Program to realize Fuzzy Sets arithmetic. You can two fuzzy sets and write the program for different operations such as complement, intersection, union, associative property, etc.\n",
        "\n"
      ],
      "metadata": {
        "id": "cVbg3UDOpoWH"
      }
    },
    {
      "cell_type": "code",
      "source": [
        "\n",
        "fuzzy_set_A = {1: 0.2, 2: 0.5, 3: 0.7, 4: 0.9}\n",
        "fuzzy_set_B = {1: 0.3, 2: 0.4, 3: 0.8, 4: 0.6}\n",
        "\n",
        "def complement(fuzzy_set):\n",
        "    return {x: 1 - membership for x, membership in fuzzy_set.items()}\n",
        "\n",
        "def intersection(fuzzy_set1, fuzzy_set2):\n",
        "    return {x: min(fuzzy_set1[x], fuzzy_set2[x]) for x in fuzzy_set1}\n",
        "\n",
        "def union(fuzzy_set1, fuzzy_set2):\n",
        "    return {x: max(fuzzy_set1[x], fuzzy_set2[x]) for x in fuzzy_set1}\n",
        "\n",
        "def associative_property_union(fuzzy_set1, fuzzy_set2, fuzzy_set3):\n",
        "    left_side = union(union(fuzzy_set1, fuzzy_set2), fuzzy_set3)\n",
        "    right_side = union(fuzzy_set1, union(fuzzy_set2, fuzzy_set3))\n",
        "    return left_side == right_side\n",
        "\n",
        "def associative_property_intersection(fuzzy_set1, fuzzy_set2, fuzzy_set3):\n",
        "    left_side = intersection(intersection(fuzzy_set1, fuzzy_set2), fuzzy_set3)\n",
        "    right_side = intersection(fuzzy_set1, intersection(fuzzy_set2, fuzzy_set3))\n",
        "    return left_side == right_side\n",
        "\n",
        "fuzzy_set_C = {1: 0.6, 2: 0.8, 3: 0.4, 4: 0.7}\n",
        "\n",
        "complement_A = complement(fuzzy_set_A)\n",
        "complement_B = complement(fuzzy_set_B)\n",
        "intersection_AB = intersection(fuzzy_set_A, fuzzy_set_B)\n",
        "union_AB = union(fuzzy_set_A, fuzzy_set_B)\n",
        "assoc_union = associative_property_union(fuzzy_set_A, fuzzy_set_B, fuzzy_set_C)\n",
        "assoc_intersection = associative_property_intersection(fuzzy_set_A, fuzzy_set_B, fuzzy_set_C)\n",
        "\n",
        "print(\"Fuzzy Set A:\", fuzzy_set_A)\n",
        "print(\"Fuzzy Set B:\", fuzzy_set_B)\n",
        "print(\"Complement of A:\", complement_A)\n",
        "print(\"Complement of B:\", complement_B)\n",
        "print(\"Intersection of A and B:\", intersection_AB)\n",
        "print(\"Union of A and B:\", union_AB)\n",
        "print(\"Associative Property (Union) holds:\", assoc_union)\n",
        "print(\"Associative Property (Intersection) holds:\", assoc_intersection)\n"
      ],
      "metadata": {
        "colab": {
          "base_uri": "https://localhost:8080/"
        },
        "id": "nZo7v1-TBJXv",
        "outputId": "b452f0d2-b37b-490e-e3bd-2f84cd5c7c09"
      },
      "execution_count": 1,
      "outputs": [
        {
          "output_type": "stream",
          "name": "stdout",
          "text": [
            "Fuzzy Set A: {1: 0.2, 2: 0.5, 3: 0.7, 4: 0.9}\n",
            "Fuzzy Set B: {1: 0.3, 2: 0.4, 3: 0.8, 4: 0.6}\n",
            "Complement of A: {1: 0.8, 2: 0.5, 3: 0.30000000000000004, 4: 0.09999999999999998}\n",
            "Complement of B: {1: 0.7, 2: 0.6, 3: 0.19999999999999996, 4: 0.4}\n",
            "Intersection of A and B: {1: 0.2, 2: 0.4, 3: 0.7, 4: 0.6}\n",
            "Union of A and B: {1: 0.3, 2: 0.5, 3: 0.8, 4: 0.9}\n",
            "Associative Property (Union) holds: True\n",
            "Associative Property (Intersection) holds: True\n"
          ]
        }
      ]
    }
  ]
}