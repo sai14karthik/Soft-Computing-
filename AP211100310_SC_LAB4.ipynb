{
  "nbformat": 4,
  "nbformat_minor": 0,
  "metadata": {
    "colab": {
      "provenance": [],
      "authorship_tag": "ABX9TyM4u4KV/8XYbEBSe8TojrrW",
      "include_colab_link": true
    },
    "kernelspec": {
      "name": "python3",
      "display_name": "Python 3"
    },
    "language_info": {
      "name": "python"
    }
  },
  "cells": [
    {
      "cell_type": "markdown",
      "metadata": {
        "id": "view-in-github",
        "colab_type": "text"
      },
      "source": [
        "<a href=\"https://colab.research.google.com/github/sai14karthik/Soft-Computing-/blob/main/AP211100310_SC_LAB4.ipynb\" target=\"_parent\"><img src=\"https://colab.research.google.com/assets/colab-badge.svg\" alt=\"Open In Colab\"/></a>"
      ]
    },
    {
      "cell_type": "code",
      "execution_count": 38,
      "metadata": {
        "id": "aUiGw4_LgTzW"
      },
      "outputs": [],
      "source": [
        "import numpy as np\n"
      ]
    },
    {
      "cell_type": "markdown",
      "source": [
        "# N. Sai KARTHIK AP21110010310 CSE-E\n",
        "## Adaline"
      ],
      "metadata": {
        "id": "pwBgDcrchy9L"
      }
    },
    {
      "cell_type": "markdown",
      "source": [
        "Implement an Adaline neural network for the grade calculation problem which is given in the previous lab.\n"
      ],
      "metadata": {
        "id": "5HIOkUSulmSq"
      }
    },
    {
      "cell_type": "code",
      "source": [
        "class Adaline:\n",
        "    def __init__(self, input_size, learning_rate=0.01, epochs=10):\n",
        "        self.weights = np.zeros(input_size)\n",
        "        self.bias = 0\n",
        "        self.learning_rate = learning_rate\n",
        "        self.epochs = epochs\n",
        "\n",
        "    def predict(self, X):\n",
        "        return np.dot(X, self.weights) + self.bias\n",
        "\n",
        "    def train(self, X, y):\n",
        "        for _ in range(self.epochs):\n",
        "            for inputs, label in zip(X, y):\n",
        "                prediction = self.predict(inputs)\n",
        "                error = label - prediction\n",
        "                self.weights += self.learning_rate * error * inputs\n",
        "                self.bias += self.learning_rate * error"
      ],
      "metadata": {
        "id": "TbfnOysgh6e4"
      },
      "execution_count": 39,
      "outputs": []
    },
    {
      "cell_type": "code",
      "source": [
        "X = np.array([\n",
        "    [45, 50, 60],  # Pass\n",
        "    [30, 35, 25],  # Fail\n",
        "    [80, 70, 90],  # Pass\n",
        "    [20, 25, 15],  # Fail\n",
        "])\n",
        "\n",
        "X = (X - X.mean(axis=0)) / X.std(axis=0)\n",
        "\n",
        "y = np.array([1, 0, 1, 0])\n",
        "\n",
        "adaline = Adaline(input_size=X.shape[1], learning_rate=0.001, epochs=100)\n",
        "\n",
        "adaline.train(X, y)\n",
        "\n",
        "new_student_marks = np.array([55, 60, 65])\n",
        "new_student_marks = (new_student_marks - X.mean(axis=0)) / X.std(axis=0)\n",
        "result = adaline.predict(new_student_marks)\n",
        "\n",
        "if result >= 0.5:\n",
        "    print(\"The student has passed.\")\n",
        "else:\n",
        "    print(\"The student has failed.\")"
      ],
      "metadata": {
        "colab": {
          "base_uri": "https://localhost:8080/"
        },
        "id": "40KsuzW_puLu",
        "outputId": "91ce1c82-9e97-469f-e6e7-17e340110d98"
      },
      "execution_count": 40,
      "outputs": [
        {
          "output_type": "stream",
          "name": "stdout",
          "text": [
            "The student has passed.\n"
          ]
        }
      ]
    }
  ]
}