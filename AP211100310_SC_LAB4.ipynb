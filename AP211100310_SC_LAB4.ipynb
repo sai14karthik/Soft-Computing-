{
  "nbformat": 4,
  "nbformat_minor": 0,
  "metadata": {
    "colab": {
      "provenance": [],
      "authorship_tag": "ABX9TyM0hCX6aJClJshqJ9NJDLKD",
      "include_colab_link": true
    },
    "kernelspec": {
      "name": "python3",
      "display_name": "Python 3"
    },
    "language_info": {
      "name": "python"
    }
  },
  "cells": [
    {
      "cell_type": "markdown",
      "metadata": {
        "id": "view-in-github",
        "colab_type": "text"
      },
      "source": [
        "<a href=\"https://colab.research.google.com/github/sai14karthik/Soft-Computing-/blob/main/AP211100310_SC_LAB4.ipynb\" target=\"_parent\"><img src=\"https://colab.research.google.com/assets/colab-badge.svg\" alt=\"Open In Colab\"/></a>"
      ]
    },
    {
      "cell_type": "code",
      "execution_count": 1,
      "metadata": {
        "id": "aUiGw4_LgTzW"
      },
      "outputs": [],
      "source": [
        "import numpy as np\n"
      ]
    },
    {
      "cell_type": "markdown",
      "source": [
        "# N. Sai KARTHIK AP21110010310 CSE-E\n",
        "## Adaline"
      ],
      "metadata": {
        "id": "pwBgDcrchy9L"
      }
    },
    {
      "cell_type": "code",
      "source": [
        "def Adaline(Input, Target, lr=0.2, stop=0.001):\n",
        "    weight = np.random.random(Input.shape[1])\n",
        "    bias   = np.random.random(1)\n",
        "\n",
        "    Error=[stop +1]\n",
        "    while Error[-1] > stop or Error[-1]-Error[-2] > 0.0001:\n",
        "        error = []\n",
        "        for i in range(Input.shape[0]):\n",
        "            Y_input = sum(weight*Input[i]) + bias\n",
        "\n",
        "            for j in range(Input.shape[1]):\n",
        "                weight[j]=weight[j] + lr*(Target[i]-Y_input)*Input[i][j]\n",
        "\n",
        "            bias=bias + lr*(Target[i]-Y_input)\n",
        "\n",
        "            error.append((Target[i]-Y_input)**2)\n",
        "        Error.append(sum(error))\n",
        "        print('Error :',Error[-1])\n",
        "    return weight, bias"
      ],
      "metadata": {
        "id": "TbfnOysgh6e4"
      },
      "execution_count": 3,
      "outputs": []
    },
    {
      "cell_type": "code",
      "source": [
        "x = np.array([\n",
        "    [45, 50, 60],  # Pass\n",
        "    [30, 35, 25],  # Fail\n",
        "    [80, 70, 90],  # Pass\n",
        "    [20, 25, 15],  # Fail\n",
        "])\n",
        "t =  np.array([1, 0, 1, 0])"
      ],
      "metadata": {
        "id": "qezSy4tLiBR0"
      },
      "execution_count": 4,
      "outputs": []
    },
    {
      "cell_type": "code",
      "source": [
        "w,b = Adaline(x, t, lr=0.2, stop=0.001)\n",
        "print('weight :',w)\n",
        "print('Bias :',b)"
      ],
      "metadata": {
        "colab": {
          "base_uri": "https://localhost:8080/"
        },
        "id": "VhhVLSP1iHZV",
        "outputId": "0add423f-2eb4-4542-a641-f4f0dfce4442"
      },
      "execution_count": 5,
      "outputs": [
        {
          "output_type": "stream",
          "name": "stdout",
          "text": [
            "Error : [4.11147985]\n",
            "Error : [0.77596235]\n",
            "Error : [0.49462744]\n",
            "Error : [0.34072286]\n",
            "Error : [0.23574635]\n",
            "Error : [0.1631547]\n",
            "Error : [0.11291734]\n",
            "Error : [0.07814875]\n",
            "Error : [0.05408582]\n",
            "Error : [0.03743216]\n",
            "Error : [0.02590635]\n",
            "Error : [0.01792948]\n",
            "Error : [0.01240878]\n",
            "Error : [0.00858797]\n",
            "Error : [0.00594363]\n",
            "Error : [0.00411352]\n",
            "Error : [0.00284692]\n",
            "Error : [0.00197032]\n",
            "Error : [0.00136363]\n",
            "Error : [0.00094375]\n",
            "weight : [0.01063644 0.01063644 0.98697307]\n",
            "Bias : [0.01063644]\n"
          ]
        },
        {
          "output_type": "stream",
          "name": "stderr",
          "text": [
            "<ipython-input-3-e54b0ff43270>:12: DeprecationWarning: Conversion of an array with ndim > 0 to a scalar is deprecated, and will error in future. Ensure you extract a single element from your array before performing this operation. (Deprecated NumPy 1.25.)\n",
            "  weight[j]=weight[j] + lr*(Target[i]-Y_input)*Input[i][j]\n"
          ]
        }
      ]
    },
    {
      "cell_type": "code",
      "source": [
        "def prediction(X,w,b):\n",
        "\ty=[]\n",
        "\tfor i in range(X.shape[0]):\n",
        "\t\tx = X[i]\n",
        "\t\ty.append(sum(w*x)+b)\n",
        "\treturn y\n",
        "prediction(x,w,b)\n"
      ],
      "metadata": {
        "colab": {
          "base_uri": "https://localhost:8080/"
        },
        "id": "RNMN1ioziL7M",
        "outputId": "5e1ba7ff-7946-4b0e-e623-6855ee28c40c"
      },
      "execution_count": 6,
      "outputs": [
        {
          "output_type": "execute_result",
          "data": {
            "text/plain": [
              "[array([1.0188824]),\n",
              " array([0.99760951]),\n",
              " array([0.99760951]),\n",
              " array([-0.99760951])]"
            ]
          },
          "metadata": {},
          "execution_count": 6
        }
      ]
    }
  ]
}