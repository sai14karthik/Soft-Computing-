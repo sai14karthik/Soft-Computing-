{
  "nbformat": 4,
  "nbformat_minor": 0,
  "metadata": {
    "colab": {
      "provenance": [],
      "authorship_tag": "ABX9TyMy0w4SMNdBtf+YSPaE4TtW",
      "include_colab_link": true
    },
    "kernelspec": {
      "name": "python3",
      "display_name": "Python 3"
    },
    "language_info": {
      "name": "python"
    }
  },
  "cells": [
    {
      "cell_type": "markdown",
      "metadata": {
        "id": "view-in-github",
        "colab_type": "text"
      },
      "source": [
        "<a href=\"https://colab.research.google.com/github/sai14karthik/Soft-Computing-/blob/main/AP211100310_SC_LAB2.ipynb\" target=\"_parent\"><img src=\"https://colab.research.google.com/assets/colab-badge.svg\" alt=\"Open In Colab\"/></a>"
      ]
    },
    {
      "cell_type": "markdown",
      "source": [
        "# N. Sai Karthik AP21110010310 CSE-E\n",
        "\n",
        "\n"
      ],
      "metadata": {
        "id": "Uny-OnLTpi_y"
      }
    },
    {
      "cell_type": "markdown",
      "source": [
        "Write a program to implement a perceptron neural network for calculate the GRADE in the marksheet, inputs are the marks you scored in different subjects."
      ],
      "metadata": {
        "id": "cVbg3UDOpoWH"
      }
    },
    {
      "cell_type": "code",
      "source": [
        "import numpy as np\n"
      ],
      "metadata": {
        "id": "8l8LBB-npyZG"
      },
      "execution_count": 11,
      "outputs": []
    },
    {
      "cell_type": "code",
      "source": [
        "class Perceptron:\n",
        "    def __init__(self, input_size, learning_rate=0.1, epochs=10):\n",
        "        self.weights = np.zeros(input_size)\n",
        "        self.bias = 0\n",
        "        self.learning_rate = learning_rate\n",
        "        self.epochs = epochs\n",
        "\n",
        "    def activation_function(self, x):\n",
        "        return 1 if x >= 0 else 0\n",
        "\n",
        "    def predict(self, X):\n",
        "        linear_output = np.dot(X, self.weights) + self.bias\n",
        "        return self.activation_function(linear_output)\n",
        "\n",
        "    def train(self, X, y):\n",
        "        for _ in range(self.epochs):\n",
        "            for inputs, label in zip(X, y):\n",
        "                prediction = self.predict(inputs)\n",
        "                self.weights += self.learning_rate * (label - prediction) * inputs\n",
        "                self.bias += self.learning_rate * (label - prediction)"
      ],
      "metadata": {
        "id": "YQitRxJOvO2I"
      },
      "execution_count": 12,
      "outputs": []
    },
    {
      "cell_type": "code",
      "source": [
        "X = np.array([\n",
        "    [45, 50, 60],  # Pass\n",
        "    [30, 35, 25],  # Fail\n",
        "    [80, 70, 90],  # Pass\n",
        "    [20, 25, 15],  # Fail\n",
        "])"
      ],
      "metadata": {
        "id": "qkfqsXDNvRxI"
      },
      "execution_count": 13,
      "outputs": []
    },
    {
      "cell_type": "code",
      "source": [
        "y = np.array([1, 0, 1, 0])"
      ],
      "metadata": {
        "id": "YpvckvFsvTlE"
      },
      "execution_count": 14,
      "outputs": []
    },
    {
      "cell_type": "code",
      "source": [
        "perceptron = Perceptron(input_size=X.shape[1])\n"
      ],
      "metadata": {
        "id": "pVtWYhthvVWT"
      },
      "execution_count": 15,
      "outputs": []
    },
    {
      "cell_type": "code",
      "source": [
        "perceptron.train(X, y)\n"
      ],
      "metadata": {
        "id": "PfP1Rci9vXaD"
      },
      "execution_count": 16,
      "outputs": []
    },
    {
      "cell_type": "code",
      "source": [
        "new_student_marks = np.array([55, 60, 65])\n",
        "result = perceptron.predict(new_student_marks)"
      ],
      "metadata": {
        "id": "nvLY6XWGvZ1h"
      },
      "execution_count": 17,
      "outputs": []
    },
    {
      "cell_type": "code",
      "source": [
        "if result == 1:\n",
        "    print(\"The student has passed.\")\n",
        "else:\n",
        "    print(\"The student has failed.\")"
      ],
      "metadata": {
        "colab": {
          "base_uri": "https://localhost:8080/"
        },
        "id": "Cw4uGy2BvaY0",
        "outputId": "673257c8-4ae8-4213-8f11-535ab26dad9f"
      },
      "execution_count": 18,
      "outputs": [
        {
          "output_type": "stream",
          "name": "stdout",
          "text": [
            "The student has passed.\n"
          ]
        }
      ]
    }
  ]
}