{
  "nbformat": 4,
  "nbformat_minor": 0,
  "metadata": {
    "colab": {
      "provenance": [],
      "authorship_tag": "ABX9TyPuwQx3FZL1TNgcUJBxYBUH",
      "include_colab_link": true
    },
    "kernelspec": {
      "name": "python3",
      "display_name": "Python 3"
    },
    "language_info": {
      "name": "python"
    }
  },
  "cells": [
    {
      "cell_type": "markdown",
      "metadata": {
        "id": "view-in-github",
        "colab_type": "text"
      },
      "source": [
        "<a href=\"https://colab.research.google.com/github/sai14karthik/Soft-Computing-/blob/main/AP211100310_SC_LAB1.ipynb\" target=\"_parent\"><img src=\"https://colab.research.google.com/assets/colab-badge.svg\" alt=\"Open In Colab\"/></a>"
      ]
    },
    {
      "cell_type": "markdown",
      "source": [
        "N. Sai Karthik AP21110010310"
      ],
      "metadata": {
        "id": "26HI4QoHdTVU"
      }
    },
    {
      "cell_type": "markdown",
      "source": [
        "# MP AND GATE"
      ],
      "metadata": {
        "id": "2FoazJ0zgZLt"
      }
    },
    {
      "cell_type": "code",
      "source": [
        "inputs=[[1,1],[0,1],[1,0],[0,0]]"
      ],
      "metadata": {
        "id": "OkNsceKbdUKK"
      },
      "execution_count": 28,
      "outputs": []
    },
    {
      "cell_type": "code",
      "source": [
        "print(inputs)"
      ],
      "metadata": {
        "colab": {
          "base_uri": "https://localhost:8080/"
        },
        "id": "gjxNfkgVgYmN",
        "outputId": "a671cc06-26e1-4833-ef5a-6d663edfbcda"
      },
      "execution_count": 29,
      "outputs": [
        {
          "output_type": "stream",
          "name": "stdout",
          "text": [
            "[[1, 1], [0, 1], [1, 0], [0, 0]]\n"
          ]
        }
      ]
    },
    {
      "cell_type": "code",
      "source": [
        "weights=[1,1]"
      ],
      "metadata": {
        "id": "DFrEsDdIg1VZ"
      },
      "execution_count": 30,
      "outputs": []
    },
    {
      "cell_type": "code",
      "source": [
        "summation=[]\n",
        ""
      ],
      "metadata": {
        "id": "WT-3aJTig9Uu"
      },
      "execution_count": 31,
      "outputs": []
    },
    {
      "cell_type": "code",
      "source": [
        "for i in inputs:\n",
        "    summation.append(i[0]*weights[0]+i[1]*weights[1])"
      ],
      "metadata": {
        "id": "meuShmIHiFe4"
      },
      "execution_count": 32,
      "outputs": []
    },
    {
      "cell_type": "code",
      "source": [
        "summation"
      ],
      "metadata": {
        "colab": {
          "base_uri": "https://localhost:8080/"
        },
        "id": "gS1NOHLeiLQT",
        "outputId": "20ff25d1-9ebf-4d41-bafe-aba9e7a7169e"
      },
      "execution_count": 33,
      "outputs": [
        {
          "output_type": "execute_result",
          "data": {
            "text/plain": [
              "[2, 1, 1, 0]"
            ]
          },
          "metadata": {},
          "execution_count": 33
        }
      ]
    },
    {
      "cell_type": "code",
      "source": [
        "for i in range(len(summation)) :\n",
        "  if summation[i] >=2 :\n",
        "    print(str(inputs[i])+\"=\"+str(1))\n",
        "  else :\n",
        "    print(str(inputs[i])+\"=\"+str(0))\n"
      ],
      "metadata": {
        "colab": {
          "base_uri": "https://localhost:8080/"
        },
        "id": "0kckee-uifZH",
        "outputId": "393d317b-6015-4797-f4d0-8c22ebb09bd5"
      },
      "execution_count": 39,
      "outputs": [
        {
          "output_type": "stream",
          "name": "stdout",
          "text": [
            "[1, 1]=1\n",
            "[0, 1]=0\n",
            "[1, 0]=0\n",
            "[0, 0]=0\n"
          ]
        }
      ]
    },
    {
      "cell_type": "markdown",
      "source": [
        "# MP OR GATE"
      ],
      "metadata": {
        "id": "MWZ5QZ4Aj2a8"
      }
    },
    {
      "cell_type": "code",
      "source": [],
      "metadata": {
        "id": "lrKXlodzj7TE"
      },
      "execution_count": null,
      "outputs": []
    }
  ]
}