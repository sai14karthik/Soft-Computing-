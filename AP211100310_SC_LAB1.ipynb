{
  "nbformat": 4,
  "nbformat_minor": 0,
  "metadata": {
    "colab": {
      "provenance": [],
      "authorship_tag": "ABX9TyP4k97Z1DlB5iw5MIP8MLX9",
      "include_colab_link": true
    },
    "kernelspec": {
      "name": "python3",
      "display_name": "Python 3"
    },
    "language_info": {
      "name": "python"
    }
  },
  "cells": [
    {
      "cell_type": "markdown",
      "metadata": {
        "id": "view-in-github",
        "colab_type": "text"
      },
      "source": [
        "<a href=\"https://colab.research.google.com/github/sai14karthik/Soft-Computing-/blob/main/AP211100310_SC_LAB1.ipynb\" target=\"_parent\"><img src=\"https://colab.research.google.com/assets/colab-badge.svg\" alt=\"Open In Colab\"/></a>"
      ]
    },
    {
      "cell_type": "markdown",
      "source": [
        "N. Sai Karthik AP21110010310"
      ],
      "metadata": {
        "id": "26HI4QoHdTVU"
      }
    },
    {
      "cell_type": "markdown",
      "source": [
        "# MP AND GATE"
      ],
      "metadata": {
        "id": "2FoazJ0zgZLt"
      }
    },
    {
      "cell_type": "code",
      "source": [
        "inputs=[[1,1],[0,1],[1,0],[0,0]]"
      ],
      "metadata": {
        "id": "OkNsceKbdUKK"
      },
      "execution_count": 28,
      "outputs": []
    },
    {
      "cell_type": "code",
      "source": [
        "print(inputs)"
      ],
      "metadata": {
        "colab": {
          "base_uri": "https://localhost:8080/"
        },
        "id": "gjxNfkgVgYmN",
        "outputId": "a671cc06-26e1-4833-ef5a-6d663edfbcda"
      },
      "execution_count": 29,
      "outputs": [
        {
          "output_type": "stream",
          "name": "stdout",
          "text": [
            "[[1, 1], [0, 1], [1, 0], [0, 0]]\n"
          ]
        }
      ]
    },
    {
      "cell_type": "code",
      "source": [
        "weights=[1,1]"
      ],
      "metadata": {
        "id": "DFrEsDdIg1VZ"
      },
      "execution_count": 30,
      "outputs": []
    },
    {
      "cell_type": "code",
      "source": [
        "summation=[]\n",
        ""
      ],
      "metadata": {
        "id": "WT-3aJTig9Uu"
      },
      "execution_count": 31,
      "outputs": []
    },
    {
      "cell_type": "code",
      "source": [
        "for i in inputs:\n",
        "    summation.append(i[0]*weights[0]+i[1]*weights[1])"
      ],
      "metadata": {
        "id": "meuShmIHiFe4"
      },
      "execution_count": 32,
      "outputs": []
    },
    {
      "cell_type": "code",
      "source": [
        "summation"
      ],
      "metadata": {
        "colab": {
          "base_uri": "https://localhost:8080/"
        },
        "id": "gS1NOHLeiLQT",
        "outputId": "20ff25d1-9ebf-4d41-bafe-aba9e7a7169e"
      },
      "execution_count": 33,
      "outputs": [
        {
          "output_type": "execute_result",
          "data": {
            "text/plain": [
              "[2, 1, 1, 0]"
            ]
          },
          "metadata": {},
          "execution_count": 33
        }
      ]
    },
    {
      "cell_type": "code",
      "source": [
        "for i in range(len(summation)) :\n",
        "  if summation[i] >=2 :\n",
        "    print(str(inputs[i])+\"=\"+str(1))\n",
        "  else :\n",
        "    print(str(inputs[i])+\"=\"+str(0))\n"
      ],
      "metadata": {
        "colab": {
          "base_uri": "https://localhost:8080/"
        },
        "id": "0kckee-uifZH",
        "outputId": "393d317b-6015-4797-f4d0-8c22ebb09bd5"
      },
      "execution_count": 39,
      "outputs": [
        {
          "output_type": "stream",
          "name": "stdout",
          "text": [
            "[1, 1]=1\n",
            "[0, 1]=0\n",
            "[1, 0]=0\n",
            "[0, 0]=0\n"
          ]
        }
      ]
    },
    {
      "cell_type": "markdown",
      "source": [
        "# MP OR GATE"
      ],
      "metadata": {
        "id": "MWZ5QZ4Aj2a8"
      }
    },
    {
      "cell_type": "code",
      "source": [
        "inputs=[[1,1],[0,1],[1,0],[0,0]]"
      ],
      "metadata": {
        "id": "Np6CzAW3kD2z"
      },
      "execution_count": 40,
      "outputs": []
    },
    {
      "cell_type": "code",
      "source": [
        "print(inputs)"
      ],
      "metadata": {
        "colab": {
          "base_uri": "https://localhost:8080/"
        },
        "id": "fiHp_BNikFlk",
        "outputId": "5ddfe205-17aa-4059-8906-11185583bcf6"
      },
      "execution_count": 41,
      "outputs": [
        {
          "output_type": "stream",
          "name": "stdout",
          "text": [
            "[[1, 1], [0, 1], [1, 0], [0, 0]]\n"
          ]
        }
      ]
    },
    {
      "cell_type": "code",
      "source": [
        "weights=[1,1]"
      ],
      "metadata": {
        "id": "3-Ws3YrdkeS8"
      },
      "execution_count": 42,
      "outputs": []
    },
    {
      "cell_type": "code",
      "source": [
        "summation=[]\n"
      ],
      "metadata": {
        "id": "V8gML3ItkJV_"
      },
      "execution_count": 43,
      "outputs": []
    },
    {
      "cell_type": "code",
      "source": [
        "for i in inputs:\n",
        "    summation.append(i[0]*weights[0]+i[1]*weights[1])"
      ],
      "metadata": {
        "id": "aKGmpMw5kRus"
      },
      "execution_count": 44,
      "outputs": []
    },
    {
      "cell_type": "code",
      "source": [
        "summation"
      ],
      "metadata": {
        "colab": {
          "base_uri": "https://localhost:8080/"
        },
        "id": "7RSntOgdki5C",
        "outputId": "c431b17f-f127-4b4c-ffd5-fe34e64113e1"
      },
      "execution_count": 45,
      "outputs": [
        {
          "output_type": "execute_result",
          "data": {
            "text/plain": [
              "[2, 1, 1, 0]"
            ]
          },
          "metadata": {},
          "execution_count": 45
        }
      ]
    },
    {
      "cell_type": "code",
      "source": [
        "for i in range(len(summation)) :\n",
        "  if summation[i] >=1 :\n",
        "    print(str(inputs[i])+\"=\"+str(1))\n",
        "  else :\n",
        "    print(str(inputs[i])+\"=\"+str(0))\n"
      ],
      "metadata": {
        "colab": {
          "base_uri": "https://localhost:8080/"
        },
        "id": "hWbeXeofkj_k",
        "outputId": "24e8634b-d4ec-4e79-b434-35ef7d9e3e89"
      },
      "execution_count": 46,
      "outputs": [
        {
          "output_type": "stream",
          "name": "stdout",
          "text": [
            "[1, 1]=1\n",
            "[0, 1]=1\n",
            "[1, 0]=1\n",
            "[0, 0]=0\n"
          ]
        }
      ]
    }
  ]
}