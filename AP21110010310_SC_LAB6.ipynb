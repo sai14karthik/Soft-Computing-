{
  "nbformat": 4,
  "nbformat_minor": 0,
  "metadata": {
    "colab": {
      "provenance": [],
      "authorship_tag": "ABX9TyOjB8JGkmiW9SbHUWYHzLGa",
      "include_colab_link": true
    },
    "kernelspec": {
      "name": "python3",
      "display_name": "Python 3"
    },
    "language_info": {
      "name": "python"
    }
  },
  "cells": [
    {
      "cell_type": "markdown",
      "metadata": {
        "id": "view-in-github",
        "colab_type": "text"
      },
      "source": [
        "<a href=\"https://colab.research.google.com/github/sai14karthik/Soft-Computing-/blob/main/AP21110010310_SC_LAB6.ipynb\" target=\"_parent\"><img src=\"https://colab.research.google.com/assets/colab-badge.svg\" alt=\"Open In Colab\"/></a>"
      ]
    },
    {
      "cell_type": "markdown",
      "source": [
        "# N. Sai Karthik AP21110010310 CSE-E\n",
        "\n",
        "\n"
      ],
      "metadata": {
        "id": "Uny-OnLTpi_y"
      }
    },
    {
      "cell_type": "markdown",
      "source": [
        "Write a python program to implement Hebb Network. The inbuilt function should not be used.\n",
        "\n",
        "\n"
      ],
      "metadata": {
        "id": "cVbg3UDOpoWH"
      }
    },
    {
      "cell_type": "code",
      "source": [
        "import numpy as np\n"
      ],
      "metadata": {
        "id": "8l8LBB-npyZG"
      },
      "execution_count": null,
      "outputs": []
    },
    {
      "cell_type": "code",
      "source": [
        "\n",
        "class HebbNetwork:\n",
        "    def __init__(self, input_size):\n",
        "        self.weights = np.zeros(input_size)\n",
        "        self.bias = 0\n",
        "\n",
        "    def train(self, inputs, targets):\n",
        "        for i in range(len(inputs)):\n",
        "            self.weights += inputs[i] * targets[i]\n",
        "            self.bias += targets[i]\n",
        "\n",
        "    def predict(self, input_data):\n",
        "        summation = np.dot(self.weights, input_data) + self.bias\n",
        "        return 1 if summation > 0 else -1\n",
        "\n",
        "def run_hebb_network():\n",
        "    inputs = np.array([\n",
        "        [1, 1],  # Input 1\n",
        "        [1, -1],  # Input 2\n",
        "        [-1, 1],  # Input 3\n",
        "        [-1, -1]  # Input 4\n",
        "    ])\n",
        "\n",
        "    targets = np.array([1, -1, -1, -1])\n",
        "\n",
        "    hebb_network = HebbNetwork(input_size=2)\n",
        "\n",
        "    hebb_network.train(inputs, targets)\n",
        "\n",
        "\n",
        "    print(\"Predictions after training:\")\n",
        "    for input_data in inputs:\n",
        "        output = hebb_network.predict(input_data)\n",
        "        print(f\"Input: {input_data}, Predicted Output: {output}\")\n",
        "\n",
        "run_hebb_network()\n"
      ],
      "metadata": {
        "colab": {
          "base_uri": "https://localhost:8080/"
        },
        "id": "ORDja4VjwQRi",
        "outputId": "4d028852-1a31-4e43-a1ca-d732f580f9fd"
      },
      "execution_count": 17,
      "outputs": [
        {
          "output_type": "stream",
          "name": "stdout",
          "text": [
            "Predictions after training:\n",
            "Input: [1 1], Predicted Output: 1\n",
            "Input: [ 1 -1], Predicted Output: -1\n",
            "Input: [-1  1], Predicted Output: -1\n",
            "Input: [-1 -1], Predicted Output: -1\n"
          ]
        }
      ]
    }
  ]
}