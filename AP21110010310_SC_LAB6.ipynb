{
  "nbformat": 4,
  "nbformat_minor": 0,
  "metadata": {
    "colab": {
      "provenance": [],
      "authorship_tag": "ABX9TyOUclWBY0cH9bOEz292kS4v",
      "include_colab_link": true
    },
    "kernelspec": {
      "name": "python3",
      "display_name": "Python 3"
    },
    "language_info": {
      "name": "python"
    }
  },
  "cells": [
    {
      "cell_type": "markdown",
      "metadata": {
        "id": "view-in-github",
        "colab_type": "text"
      },
      "source": [
        "<a href=\"https://colab.research.google.com/github/sai14karthik/Soft-Computing-/blob/main/AP21110010310_SC_LAB6.ipynb\" target=\"_parent\"><img src=\"https://colab.research.google.com/assets/colab-badge.svg\" alt=\"Open In Colab\"/></a>"
      ]
    },
    {
      "cell_type": "markdown",
      "source": [
        "# N. Sai Karthik AP21110010310 CSE-E\n",
        "\n",
        "\n"
      ],
      "metadata": {
        "id": "Uny-OnLTpi_y"
      }
    },
    {
      "cell_type": "markdown",
      "source": [
        "Write a python program to implement Hebb Network. The inbuilt function should not be used.\n",
        "\n",
        "\n"
      ],
      "metadata": {
        "id": "cVbg3UDOpoWH"
      }
    },
    {
      "cell_type": "code",
      "source": [
        "import numpy as np\n"
      ],
      "metadata": {
        "id": "8l8LBB-npyZG"
      },
      "execution_count": 11,
      "outputs": []
    },
    {
      "cell_type": "code",
      "source": [
        "class HebbianNetwork:\n",
        "    def __init__(self, input_size, output_size, learning_rate=0.01):\n",
        "        self.weights = np.random.rand(input_size, output_size)\n",
        "        self.learning_rate = learning_rate\n",
        "\n",
        "    def train(self, inputs, outputs):\n",
        "        for i in range(len(inputs)):\n",
        "            input_vector = inputs[i]\n",
        "            output_vector = outputs[i]\n",
        "            self.weights += self.learning_rate * np.outer(input_vector, output_vector)\n",
        "\n",
        "    def predict(self, input_vector):\n",
        "        return np.dot(input_vector, self.weights)\n"
      ],
      "metadata": {
        "id": "8-Ku3HWpudd_"
      },
      "execution_count": 12,
      "outputs": []
    },
    {
      "cell_type": "code",
      "source": [
        "\n",
        "inputs = np.array([[1, 0], [0, 1], [1, 1], [0, 0]])\n",
        "outputs = np.array([[1, 0], [0, 1], [1, 1], [0, 0]])\n",
        "\n",
        "network = HebbianNetwork(input_size=2, output_size=2)\n",
        "\n",
        "network.train(inputs, outputs)\n",
        "\n",
        "test_input = np.array([1, 0])\n",
        "predicted_output = network.predict(test_input)\n",
        "\n",
        "print(f\"Predicted output for input {test_input}: {predicted_output}\")"
      ],
      "metadata": {
        "colab": {
          "base_uri": "https://localhost:8080/"
        },
        "id": "dTn5GVqNvQ9M",
        "outputId": "734a2dc8-2426-43a6-99f3-96c7d33e1150"
      },
      "execution_count": 13,
      "outputs": [
        {
          "output_type": "stream",
          "name": "stdout",
          "text": [
            "Predicted output for input [1 0]: [0.09148576 0.56374483]\n"
          ]
        }
      ]
    }
  ]
}