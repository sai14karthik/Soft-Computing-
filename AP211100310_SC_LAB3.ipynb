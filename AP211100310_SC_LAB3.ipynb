{
  "nbformat": 4,
  "nbformat_minor": 0,
  "metadata": {
    "colab": {
      "provenance": [],
      "authorship_tag": "ABX9TyPg3kVHS+DVm0gMUhxRPJKZ",
      "include_colab_link": true
    },
    "kernelspec": {
      "name": "python3",
      "display_name": "Python 3"
    },
    "language_info": {
      "name": "python"
    }
  },
  "cells": [
    {
      "cell_type": "markdown",
      "metadata": {
        "id": "view-in-github",
        "colab_type": "text"
      },
      "source": [
        "<a href=\"https://colab.research.google.com/github/sai14karthik/Soft-Computing-/blob/main/AP211100310_SC_LAB3.ipynb\" target=\"_parent\"><img src=\"https://colab.research.google.com/assets/colab-badge.svg\" alt=\"Open In Colab\"/></a>"
      ]
    },
    {
      "cell_type": "markdown",
      "source": [
        "# N. Sai KARTHIK AP21110010310 CSE-E\n",
        "## Adaline\n"
      ],
      "metadata": {
        "id": "zHajWYw0i1Ar"
      }
    },
    {
      "cell_type": "code",
      "source": [
        "import numpy as np\n"
      ],
      "metadata": {
        "id": "0mlmUaTUi5eg"
      },
      "execution_count": null,
      "outputs": []
    },
    {
      "cell_type": "code",
      "source": [
        "def Adaline(Input, Target, lr=0.2, stop=0.001):\n",
        "    weight = np.random.random(Input.shape[1])\n",
        "    bias   = np.random.random(1)\n",
        "\n",
        "    Error=[stop +1]\n",
        "    while Error[-1] > stop or Error[-1]-Error[-2] > 0.0001:\n",
        "        error = []\n",
        "        for i in range(Input.shape[0]):\n",
        "            Y_input = sum(weight*Input[i]) + bias\n",
        "\n",
        "            for j in range(Input.shape[1]):\n",
        "                weight[j]=weight[j] + lr*(Target[i]-Y_input)*Input[i][j]\n",
        "\n",
        "            bias=bias + lr*(Target[i]-Y_input)\n",
        "\n",
        "            error.append((Target[i]-Y_input)**2)\n",
        "        Error.append(sum(error))\n",
        "        print('Error :',Error[-1])\n",
        "    return weight, bias"
      ],
      "metadata": {
        "id": "SeoKAUNEi7Jv"
      },
      "execution_count": null,
      "outputs": []
    },
    {
      "cell_type": "code",
      "source": [
        "x = np.array([[1.0, 1.0, 1.0],\n",
        "              [1.0, -1.0, 1.0],\n",
        "              [-1.0, 1.0, 1.0],\n",
        "              [-1.0, -1.0, -1.0]])\n",
        "t = np.array([1, 1, 1, -1])"
      ],
      "metadata": {
        "id": "GNP-L9a2i8Sm"
      },
      "execution_count": null,
      "outputs": []
    },
    {
      "cell_type": "code",
      "source": [
        "w,b = Adaline(x, t, lr=0.2, stop=0.001)\n",
        "print('weight :',w)\n",
        "print('Bias :',b)"
      ],
      "metadata": {
        "colab": {
          "base_uri": "https://localhost:8080/"
        },
        "id": "tfU6Pmvli9ma",
        "outputId": "ae029ef3-a645-4878-d040-77040c351536"
      },
      "execution_count": null,
      "outputs": [
        {
          "output_type": "stream",
          "name": "stdout",
          "text": [
            "Error : [1.84000612]\n",
            "Error : [1.0972663]\n",
            "Error : [0.77348797]\n",
            "Error : [0.53593403]\n",
            "Error : [0.3709382]\n",
            "Error : [0.25672292]\n",
            "Error : [0.17767493]\n",
            "Error : [0.12296672]\n",
            "Error : [0.08510381]\n",
            "Error : [0.05889934]\n",
            "Error : [0.04076353]\n",
            "Error : [0.02821196]\n",
            "Error : [0.01952516]\n",
            "Error : [0.01351313]\n",
            "Error : [0.00935228]\n",
            "Error : [0.0064726]\n",
            "Error : [0.00447961]\n",
            "Error : [0.00310029]\n",
            "Error : [0.00214567]\n",
            "Error : [0.00148499]\n",
            "Error : [0.00102775]\n",
            "Error : [0.00071129]\n",
            "weight : [0.00923402 0.00923402 0.98869069]\n",
            "Bias : [0.00923402]\n"
          ]
        },
        {
          "output_type": "stream",
          "name": "stderr",
          "text": [
            "<ipython-input-7-e54b0ff43270>:12: DeprecationWarning: Conversion of an array with ndim > 0 to a scalar is deprecated, and will error in future. Ensure you extract a single element from your array before performing this operation. (Deprecated NumPy 1.25.)\n",
            "  weight[j]=weight[j] + lr*(Target[i]-Y_input)*Input[i][j]\n"
          ]
        }
      ]
    },
    {
      "cell_type": "code",
      "source": [
        "def prediction(X,w,b):\n",
        "\ty=[]\n",
        "\tfor i in range(X.shape[0]):\n",
        "\t\tx = X[i]\n",
        "\t\ty.append(sum(w*x)+b)\n",
        "\treturn y\n",
        "prediction(x,w,b)\n"
      ],
      "metadata": {
        "colab": {
          "base_uri": "https://localhost:8080/"
        },
        "id": "gKt4D8rDi-8g",
        "outputId": "b3c3177f-015b-4989-efe9-59c6aa1f3647"
      },
      "execution_count": null,
      "outputs": [
        {
          "output_type": "execute_result",
          "data": {
            "text/plain": [
              "[array([1.01639273]),\n",
              " array([0.9979247]),\n",
              " array([0.9979247]),\n",
              " array([-0.9979247])]"
            ]
          },
          "metadata": {},
          "execution_count": 10
        }
      ]
    },
    {
      "cell_type": "code",
      "source": [],
      "metadata": {
        "id": "OrB-UPbljm6H"
      },
      "execution_count": null,
      "outputs": []
    }
  ]
}