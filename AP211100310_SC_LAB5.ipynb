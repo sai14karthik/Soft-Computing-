{
  "nbformat": 4,
  "nbformat_minor": 0,
  "metadata": {
    "colab": {
      "provenance": [],
      "authorship_tag": "ABX9TyPBsiWDfWO8KhlIiEt2FUs4",
      "include_colab_link": true
    },
    "kernelspec": {
      "name": "python3",
      "display_name": "Python 3"
    },
    "language_info": {
      "name": "python"
    }
  },
  "cells": [
    {
      "cell_type": "markdown",
      "metadata": {
        "id": "view-in-github",
        "colab_type": "text"
      },
      "source": [
        "<a href=\"https://colab.research.google.com/github/sai14karthik/Soft-Computing-/blob/main/AP211100310_SC_LAB5.ipynb\" target=\"_parent\"><img src=\"https://colab.research.google.com/assets/colab-badge.svg\" alt=\"Open In Colab\"/></a>"
      ]
    },
    {
      "cell_type": "markdown",
      "source": [
        "# N. Sai Karthik AP21110010310 CSE-E\n",
        "\n",
        "\n"
      ],
      "metadata": {
        "id": "Uny-OnLTpi_y"
      }
    },
    {
      "cell_type": "markdown",
      "source": [
        "Write a python program to extend the exercise given above(Grade calculation problem ) to implement Feed Forward Network. The inbuilt function should not be used"
      ],
      "metadata": {
        "id": "cVbg3UDOpoWH"
      }
    },
    {
      "cell_type": "code",
      "source": [
        "import numpy as np\n"
      ],
      "metadata": {
        "id": "8l8LBB-npyZG"
      },
      "execution_count": 1,
      "outputs": []
    },
    {
      "cell_type": "code",
      "source": [
        "class FeedForwardNetwork:\n",
        "    def __init__(self, input_size, hidden_size, output_size, learning_rate=0.1, epochs=10000):\n",
        "        self.weights_input_hidden = np.random.rand(input_size, hidden_size) * 0.01\n",
        "        self.bias_hidden = np.zeros(hidden_size)\n",
        "        self.weights_hidden_output = np.random.rand(hidden_size, output_size) * 0.01\n",
        "        self.bias_output = np.zeros(output_size)\n",
        "        self.learning_rate = learning_rate\n",
        "        self.epochs = epochs\n",
        "\n",
        "    def activation_function(self, x):\n",
        "        return 1 / (1 + np.exp(-x))\n",
        "\n",
        "    def derivative_activation_function(self, x):\n",
        "        return x * (1 - x)\n",
        "\n",
        "    def predict(self, X):\n",
        "        hidden_input = np.dot(X, self.weights_input_hidden) + self.bias_hidden\n",
        "        hidden_output = self.activation_function(hidden_input)\n",
        "\n",
        "        final_input = np.dot(hidden_output, self.weights_hidden_output) + self.bias_output\n",
        "        final_output = self.activation_function(final_input)\n",
        "\n",
        "        return final_output\n",
        "\n",
        "    def train(self, X, y):\n",
        "        for _ in range(self.epochs):\n",
        "            for inputs, label in zip(X, y):\n",
        "                hidden_input = np.dot(inputs, self.weights_input_hidden) + self.bias_hidden\n",
        "                hidden_output = self.activation_function(hidden_input)\n",
        "\n",
        "                final_input = np.dot(hidden_output, self.weights_hidden_output) + self.bias_output\n",
        "                final_output = self.activation_function(final_input)\n",
        "\n",
        "                error = label - final_output\n",
        "\n",
        "                d_output = error * self.derivative_activation_function(final_output)\n",
        "                error_hidden_layer = d_output.dot(self.weights_hidden_output.T)\n",
        "                d_hidden_layer = error_hidden_layer * self.derivative_activation_function(hidden_output)\n",
        "\n",
        "                self.weights_hidden_output += hidden_output.reshape(-1, 1).dot(d_output.reshape(1, -1)) * self.learning_rate\n",
        "                self.bias_output += d_output * self.learning_rate\n",
        "\n",
        "                self.weights_input_hidden += inputs.reshape(-1, 1).dot(d_hidden_layer.reshape(1, -1)) * self.learning_rate\n",
        "                self.bias_hidden += d_hidden_layer * self.learning_rate"
      ],
      "metadata": {
        "id": "YQitRxJOvO2I"
      },
      "execution_count": 8,
      "outputs": []
    },
    {
      "cell_type": "code",
      "source": [
        "if __name__ == \"__main__\":\n",
        "    X = np.array([\n",
        "        [45, 50, 60],  # Pass\n",
        "        [30, 35, 25],  # Fail\n",
        "        [80, 70, 90],  # Pass\n",
        "        [20, 25, 15],  # Fail\n",
        "    ])\n",
        "    y = np.array([[1], [0], [1], [0]])\n",
        "\n",
        "    ffn = FeedForwardNetwork(input_size=3, hidden_size=2, output_size=1, learning_rate=0.5, epochs=10000)\n",
        "\n",
        "    ffn.train(X, y)\n",
        "\n",
        "    for x in X:\n",
        "        prediction = ffn.predict(x)\n",
        "        print(f\"Input: {x}, Predicted Output: {round(prediction[0])}, Raw Output: {prediction[0]}\")"
      ],
      "metadata": {
        "colab": {
          "base_uri": "https://localhost:8080/"
        },
        "id": "FRnENM9PkZoY",
        "outputId": "8610c7bd-f7c2-4af7-a4d4-279e1473d73b"
      },
      "execution_count": 9,
      "outputs": [
        {
          "output_type": "stream",
          "name": "stdout",
          "text": [
            "Input: [45 50 60], Predicted Output: 1, Raw Output: 0.9873041401409807\n",
            "Input: [30 35 25], Predicted Output: 0, Raw Output: 0.010339550632223323\n",
            "Input: [80 70 90], Predicted Output: 1, Raw Output: 0.987322800689725\n",
            "Input: [20 25 15], Predicted Output: 0, Raw Output: 0.010345096946769121\n"
          ]
        }
      ]
    },
    {
      "cell_type": "code",
      "source": [
        "new_student_marks = np.array([55, 60, 65])\n",
        "result = ffn.predict(new_student_marks)\n",
        "\n",
        "print(f\"New student marks: {new_student_marks}, Predicted Output: {round(result[0])}, Raw Output: {result[0]}\")"
      ],
      "metadata": {
        "colab": {
          "base_uri": "https://localhost:8080/"
        },
        "id": "nRhxrezNk4MF",
        "outputId": "ef989833-3495-4e17-c936-5c8ba8307e2c"
      },
      "execution_count": 15,
      "outputs": [
        {
          "output_type": "stream",
          "name": "stdout",
          "text": [
            "New student marks: [55 60 65], Predicted Output: 1, Raw Output: 0.9854246355019745\n"
          ]
        }
      ]
    }
  ]
}